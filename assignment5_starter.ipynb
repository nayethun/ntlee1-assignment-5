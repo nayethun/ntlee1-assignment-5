{
 "cells": [
  {
   "cell_type": "code",
   "execution_count": 153,
   "metadata": {},
   "outputs": [],
   "source": [
    "import numpy as np\n",
    "import pandas as pd"
   ]
  },
  {
   "cell_type": "code",
   "execution_count": 154,
   "metadata": {},
   "outputs": [],
   "source": [
    "# Define the KNN class with distance-weighted voting\n",
    "class KNN:\n",
    "    def __init__(self, k=3, distance_metric='euclidean'):\n",
    "        self.k = k\n",
    "        self.distance_metric = distance_metric\n",
    "\n",
    "    def fit(self, X, y):\n",
    "        self.X_train = X\n",
    "        self.y_train = y\n",
    "\n",
    "    def compute_distance(self, X1, X2):\n",
    "        if self.distance_metric == 'euclidean':\n",
    "            return np.linalg.norm(X2 - X1, axis=1)\n",
    "        elif self.distance_metric == 'manhattan':\n",
    "            return np.sum(np.abs(X2 - X1), axis=1)\n",
    "        else:\n",
    "            raise ValueError(\"Unsupported distance metric\")\n",
    "\n",
    "    def predict(self, X):\n",
    "        return np.apply_along_axis(self.pred, 1, X.values)\n",
    "\n",
    "    def pred(self, x):\n",
    "        distances = self.compute_distance(x, self.X_train.values)\n",
    "        k_indices = np.argpartition(distances, self.k)[:self.k]\n",
    "        k_nearest_labels = self.y_train.iloc[k_indices]\n",
    "        \n",
    "        # Distance-weighted averaging\n",
    "        nearest_distances = distances[k_indices]\n",
    "        weights = 1 / (nearest_distances + 1e-5)  # Avoid division by zero\n",
    "        weighted_average = np.dot(weights, k_nearest_labels) / np.sum(weights)\n",
    "        \n",
    "        return weighted_average  # Return probability"
   ]
  },
  {
   "cell_type": "code",
   "execution_count": 155,
   "metadata": {},
   "outputs": [],
   "source": [
    "# Define data preprocessing function\n",
    "def preprocess_data(train_path, test_path):\n",
    "    train_data = pd.read_csv(train_path)\n",
    "    test_data = pd.read_csv(test_path)\n",
    "\n",
    "    combined_data = pd.concat([train_data, test_data], axis=0, ignore_index=True)\n",
    "\n",
    "    # Encode categorical variables\n",
    "    combined_data = pd.get_dummies(combined_data, columns=['Geography', 'Gender'], drop_first=True)\n",
    "\n",
    "    # Define feature columns\n",
    "    features = ['CreditScore', 'Age', 'Tenure', 'Balance', 'NumOfProducts', \n",
    "                'HasCrCard', 'IsActiveMember', 'EstimatedSalary'] + \\\n",
    "               [col for col in combined_data.columns if col.startswith('Geography_') or col.startswith('Gender_')]\n",
    "\n",
    "    # Normalize features\n",
    "    combined_data[features] = (combined_data[features] - combined_data[features].mean()) / combined_data[features].std()\n",
    "\n",
    "    X_train = combined_data.loc[:len(train_data)-1, features]\n",
    "    y_train = train_data['Exited']\n",
    "    X_test = combined_data.loc[len(train_data):, features]\n",
    "\n",
    "    return X_train, y_train, X_test"
   ]
  },
  {
   "cell_type": "code",
   "execution_count": 156,
   "metadata": {},
   "outputs": [],
   "source": [
    "# Define custom AUC scoring function\n",
    "def auc_score(y_true, y_est_prob):\n",
    "    positive_indices = np.where(y_true == 1)[0]\n",
    "    negative_indices = np.where(y_true == 0)[0]\n",
    "\n",
    "    if len(positive_indices) == 0 or len(negative_indices) == 0:\n",
    "        return 0.5\n",
    "\n",
    "    positive_predictions = y_est_prob[positive_indices]\n",
    "    negative_predictions = y_est_prob[negative_indices]\n",
    "\n",
    "    correct_order = np.sum(positive_predictions[:, None] > negative_predictions)\n",
    "    return correct_order / (len(positive_indices) * len(negative_indices))\n",
    "\n",
    "# Perform cross-validation with weighted voting\n",
    "def cross_validate(X, y, knn, n_splits=5):\n",
    "    np.random.seed(42)\n",
    "    indices = np.random.permutation(len(X))\n",
    "    fold_size = len(X) // n_splits\n",
    "    scores = []\n",
    "\n",
    "    for i in range(n_splits):\n",
    "        val_indices = indices[i * fold_size:(i + 1) * fold_size]\n",
    "        train_indices = np.setdiff1d(indices, val_indices)\n",
    "\n",
    "        X_train, X_val = X.iloc[train_indices], X.iloc[val_indices]\n",
    "        y_train, y_val = y.iloc[train_indices], y.iloc[val_indices]\n",
    "\n",
    "        knn.fit(X_train, y_train)\n",
    "        y_est_prob = knn.predict(X_val)\n",
    "        score = auc_score(y_val, y_est_prob)\n",
    "        scores.append(score)\n",
    "\n",
    "    return scores"
   ]
  },
  {
   "cell_type": "code",
   "execution_count": 157,
   "metadata": {},
   "outputs": [
    {
     "name": "stdout",
     "output_type": "stream",
     "text": [
      "Best parameters: {'k': 19, 'distance_metric': 'euclidean'}\n",
      "Best ROC AUC score: 0.6958672176585978\n"
     ]
    }
   ],
   "source": [
    "# Load and preprocess data\n",
    "X, y, X_test = preprocess_data('/Users/nathanlee/Desktop/CS506/train.csv', '/Users/nathanlee/Desktop/CS506/test.csv')\n",
    "\n",
    "# Hyperparameter tuning with more k values\n",
    "k_values = [3, 5, 7, 9, 11, 13, 15, 17, 19]\n",
    "distance_metrics = ['euclidean', 'manhattan']\n",
    "best_score = 0\n",
    "best_params = {}\n",
    "\n",
    "for k in k_values:\n",
    "    for metric in distance_metrics:\n",
    "        knn = KNN(k=k, distance_metric=metric)\n",
    "        scores = cross_validate(X, y, knn)\n",
    "        mean_score = np.mean(scores)\n",
    "\n",
    "        if mean_score > best_score:\n",
    "            best_score = mean_score\n",
    "            best_params = {'k': k, 'distance_metric': metric}\n",
    "\n",
    "print(\"Best parameters:\", best_params)\n",
    "print(\"Best ROC AUC score:\", best_score)\n",
    "\n",
    "# Train on full dataset with optimal hyperparameters and make predictions on test set\n",
    "knn = KNN(**best_params)\n",
    "knn.fit(X, y)\n",
    "test_predictions = knn.predict(X_test)\n",
    "\n",
    "# Save the probability predictions to submissions.csv\n",
    "submission_df = pd.DataFrame({'id': pd.read_csv('/Users/nathanlee/Desktop/CS506/test.csv')['id'], 'Exited': test_predictions})\n",
    "submission_df.to_csv('/Users/nathanlee/Desktop/CS506/submissions.csv', index=False)"
   ]
  }
 ],
 "metadata": {
  "kernelspec": {
   "display_name": "Python 3",
   "language": "python",
   "name": "python3"
  },
  "language_info": {
   "codemirror_mode": {
    "name": "ipython",
    "version": 3
   },
   "file_extension": ".py",
   "mimetype": "text/x-python",
   "name": "python",
   "nbconvert_exporter": "python",
   "pygments_lexer": "ipython3",
   "version": "3.11.5"
  }
 },
 "nbformat": 4,
 "nbformat_minor": 2
}
